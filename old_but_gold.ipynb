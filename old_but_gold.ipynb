{
 "cells": [
  {
   "cell_type": "markdown",
   "id": "4c790c01",
   "metadata": {},
   "source": [
    "# Old but gold\n",
    "\n",
    "I though this was more a reverse engineering challenge than a crypto one. In any case, the first step was to try to understand what the binary was doing at all. I am not familiar with go, but had good success using [AlphaGolang](https://github.com/SentineLabs/AlphaGolang) with IDA Pro to reasonably figure out what the code does.\n",
    "\n",
    "Roughly speaking, it starts a web server which decrypts a token using [AES-CFB-128](https://en.wikipedia.org/wiki/Block_cipher_mode_of_operation#Cipher_feedback_(CFB)) and parses it using `json.Unmarshal`. The token we are given corresponds to `{\"id\":\"3e2bf849-9748-4046-b5c7-626e0c25846c\",\"mail\":\"balsn7122@balsn.tw\"}` (up to json equivalence) while the token we want to give to obtain the flag is `{\"id\":\"aaaaaaaa-bbbb-cccc-dddd-ffffffffffff\",\"mail\":\"admin\",\"type\":\"admin\"}`.\n",
    "\n",
    "I say up to json equivalence, because they could have provided `id` and `mail` in a different order, or have extra whitespace, or extraneous fields etc. Fortunately the challenge author was feeling nice as it turned out that was already the correct json. How do we know this? We can easily confirm this since this gives us a known decrypted-encrypted pair of blocks, which we can use to construct a small block. In particular, we construct `{             }` with 13 spaces in between.\n",
    "\n",
    "So what can we leak from the binary? Basically, a valid json returns a 200 and an invalid json returns a 400. Oh, also it doesn't unpad correctly, which helps greatly. It only looks at the last byte and then takes away that many bytes from the array. And it can also be greater than 16, which is amazing!\n",
    "\n",
    "Anyway, let's just write some basic boilerplate stuff, and also double-check that we do in fact know the initial plaintext."
   ]
  },
  {
   "cell_type": "code",
   "execution_count": 1,
   "id": "00852e2b",
   "metadata": {
    "scrolled": true
   },
   "outputs": [
    {
     "name": "stdout",
     "output_type": "stream",
     "text": [
      "Verified the encryption of 817052b64e32a0791b89e10108774b07 to d6171eb759379963aff9866a17c5a6a2\n",
      "Verified the encryption of ad3577d37b0dbb50cacbe40c2ff19f8f to c87fb753ac52781039ec272878630b8b\n",
      "Verified the encryption of f148836b816648240fc1451d1b5426bd to 1a67d8c5ae49e8873439e4f56ee10091\n",
      "Verified the encryption of 2851bdf5cd7bddbf000f87d742c36df0 to b17690f0ca2706bd28c992b5e5786823\n",
      "Verified the encryption of d81ab2cae84567d15ba7a584d74a2841 to 5b63aecdeaf7d207693b6baca17015b2\n"
     ]
    }
   ],
   "source": [
    "from pwn import *\n",
    "from Crypto.Util.Padding import pad\n",
    "from base64 import urlsafe_b64decode, urlsafe_b64encode\n",
    "import random, grequests\n",
    "\n",
    "# remote\n",
    "orig_b64 = 'gXBStk4yoHkbieEBCHdLB601d9N7DbtQysvkDC_xn4_xSINrgWZIJA_BRR0bVCa9KFG99c173b8AD4fXQsNt8NgassroRWfRW6elhNdKKEE6D92jxIOlJRQ8bKumdxK1'\n",
    "url_base = 'old-but-gold.balsnctf.com'\n",
    "\n",
    "# local\n",
    "#orig_b64 = 'gXBStk4yoHkbieEBCHdLB6Xc2wv2ylr2587ubNc5uHoupZZZ3j67pVaucXjvbTMX85P8hxOhR6prPFy07CGPBoK7L9NKYRaV5y5nvtD2e3PTXr_3BnvzKevB2HNuMjDx'\n",
    "#url_base = 'localhost:8877'\n",
    "\n",
    "orig_ct = urlsafe_b64decode(orig_b64)\n",
    "orig_pt = pad(b'{\"id\":\"3e2bf849-9748-4046-b5c7-626e0c25846c\",\"mail\":\"balsn7122@balsn.tw\"}', 16)\n",
    "\n",
    "iv = orig_ct[:16]\n",
    "iv_enc = xor(orig_ct[16:32], orig_pt[:16])\n",
    "\n",
    "# checks multiple ciphertexts to see which ones are valid\n",
    "def is_valids(bs):\n",
    "    urls = (f\"http://{url_base}/login/{urlsafe_b64encode(b).decode()}\" for b in bs)\n",
    "    rs = (grequests.get(u) for u in urls)\n",
    "    codes = [x.status_code for x in grequests.map(rs)]\n",
    "    assert all(code in [200, 400] for code in codes)\n",
    "    return [code == 200 for code in codes]\n",
    "\n",
    "# checks if given ciphertext returns a 200 code\n",
    "def is_valid(b):\n",
    "    return is_valids([b])[0]\n",
    "\n",
    "def get_last_byte_of_encrypted(block):\n",
    "    startbit = orig_ct[:16] + xor(orig_ct[16:32], orig_pt[:16], b'{}') + block + bytes(15)\n",
    "    return is_valids(startbit + bytes([46 ^ i]) for i in range(256)).index(True)\n",
    "\n",
    "def check_block_encryption(dec, enc):\n",
    "    assert len(dec) == len(enc) == 16\n",
    "    payload = pad(b'{             }', 16)\n",
    "    assert is_valid(dec + xor(enc, payload))\n",
    "    print(f'Verified the encryption of {dec.hex()} to {enc.hex()}')\n",
    "    \n",
    "for i in range(0, 80, 16):\n",
    "    check_block_encryption(orig_ct[i:i+16], xor(orig_ct[i+16:i+32], orig_pt[i:i+16]))"
   ]
  },
  {
   "cell_type": "markdown",
   "id": "283e583e",
   "metadata": {},
   "source": [
    "With that out of the way, the rest is just a standard AES oracle attack, depending on whether you construct valid json or not. There are various ways of doing this, and the intended solution is to spam 64k queries to construct a `{}`, but this seemed excessive.\n",
    "\n",
    "So I came up with a different method which uses less queries. I basically construct jsons of this form:\n",
    "```\n",
    "<----block0----><----block1----><----block2----><----block3----><----block4----><----block5---->\n",
    "0123456789abcdef0123456789abcdef0123456789abcdef0123456789abcdef0123456789abcdef0123456789abcdef\n",
    "                {\"x\":\"0000000000AAAAAAAAAAAAAAAABBBBBBBBBBBBBBBBCCCCCCCCCCCCCCCC\"}..............\n",
    "```\n",
    "\n",
    "* `block0` is just the IV, which we already know what it encrypts to, so we can construct block1 exactly\n",
    "* `block1` is our first random factor: we just take a random 10-digit number\n",
    "* `block2` is the block whose encryption we want to know\n",
    "* `block3` is our second random factor: we have no control over this, so just pick anything\n",
    "* `block4` is just another copy of the IV, so that we have control over the next block\n",
    "* `block5` is the end, it's a quote + closing brace + unpad byte at the end\n",
    "\n",
    "The key here is that we can randomly pick `block1` and `block3` to get completely random bytes in the `A..AB..BC..C` region. Now, it turns out that anything above 0x1F is a valid json string character in this context (is it something go-specific that it doesn't decode UTF-8?). Well, we also can't have a backslash or a quote, so that's 222 valid bytes out of 256.\n",
    "\n",
    "This means that the probability that this is a valid json is $\\left(\\frac{222}{256}\\right)^{48} \\simeq 0.001234$, or roughly 1 in 810. Once we have this, we can shift the string back by one every time to learn what each byte is. In this way, we can fully learn the encryption of `block2`."
   ]
  },
  {
   "cell_type": "code",
   "execution_count": 2,
   "id": "16a0e0e4",
   "metadata": {},
   "outputs": [],
   "source": [
    "# get a (block1, block3) pair that works\n",
    "def get_block13(wanted_block):\n",
    "    while True:\n",
    "        block13s = [(xor(iv_enc, f'{{\"x\":\"{random.randrange(999999):010}'.encode()), random.randbytes(16)) for i in range(256)]\n",
    "        block2 = wanted_block\n",
    "        block5 = xor(iv_enc[:2], b'\"}') + bytes(13) + xor(iv_enc[-1:], bytes([14]))\n",
    "        valids = is_valids(iv + block1 + block2 + block3 + iv + block5 for block1, block3 in block13s)\n",
    "        if True in valids:\n",
    "            return block13s[valids.index(True)]"
   ]
  },
  {
   "cell_type": "code",
   "execution_count": 3,
   "id": "350145a0",
   "metadata": {
    "scrolled": true
   },
   "outputs": [],
   "source": [
    "def get_encrypted_block(wanted_block):\n",
    "    ct1, block3 = get_block13(wanted_block)\n",
    "    iv_enc = xor(orig_ct[16:32], orig_pt[:16])\n",
    "    ct2 = wanted_block\n",
    "    ct4 = iv\n",
    "\n",
    "    known = [get_last_byte_of_encrypted(wanted_block)]\n",
    "    while len(known) < 16:\n",
    "        ct5 = xor(iv_enc[:2], b'\"}') + bytes(13) + xor(iv_enc[-1:], bytes([31 + len(known)]))\n",
    "        ct3s = [block3[:15 - len(known)] + bytes([i ^ b'\"'[0], known[0] ^ b'}'[0]]) + bytes(len(known)-1) for i in range(256)]\n",
    "        valids = is_valids(iv + ct1 + ct2 + ct3 + ct4 + ct5 for ct3 in ct3s)\n",
    "        known.insert(0, valids.index(True))\n",
    "    result = bytes(known)\n",
    "    print(f'{wanted_block.hex()} encrypts to {result.hex()}')\n",
    "    return result\n",
    "\n",
    "# assert get_encrypted_block(iv) == iv_enc"
   ]
  },
  {
   "cell_type": "markdown",
   "id": "afbf2e8a",
   "metadata": {},
   "source": [
    "And that's it basically. Since we can use the oracle to encrypt any arbitrary block, this means that we can just create the ciphertext normally from the plaintext."
   ]
  },
  {
   "cell_type": "code",
   "execution_count": 4,
   "id": "d1f013c0",
   "metadata": {},
   "outputs": [
    {
     "name": "stdout",
     "output_type": "stream",
     "text": [
      "ad3577d37b0dbb02ce98e70b76a4c78f encrypts to 2fb8aaaeecf2784f08a7a502451e6a9e\n",
      "4ddac8ccc1911b2c6b8ac166217a47f8 encrypts to 0fa7144332d646bd71b006d1763fa5a2\n",
      "69c1722554b020db17d660f35a1dc8c3 encrypts to 6669e8f87010c3dfebbfd291aaae8751\n",
      "0f05cac25271a7b282d1f0bd88dafe21 encrypts to 4e8b399bc8dd045be0dc57613a34cf57\n"
     ]
    }
   ],
   "source": [
    "#newmsg = pad(b'{\"id\":\"3e2bf849-9748-4046-b5c7-626e0c25846c\",\"mail\":\"balsn7122@balsn.tw\"}',16)\n",
    "newmsg = pad(b'{\"id\":\"aaaaaaaa-bbbb-cccc-dddd-ffffffffffff\",\"mail\":\"admin\",\"type\":\"admin\"}',16)\n",
    "assert len(newmsg) == 80\n",
    "m = [newmsg[i*16:i*16+16] for i in range(5)]\n",
    "\n",
    "c1 = xor(iv_enc, m[0])\n",
    "c2 = xor(get_encrypted_block(c1), m[1])\n",
    "c3 = xor(get_encrypted_block(c2), m[2])\n",
    "c4 = xor(get_encrypted_block(c3), m[3])\n",
    "c5 = xor(get_encrypted_block(c4), m[4])"
   ]
  },
  {
   "cell_type": "code",
   "execution_count": 5,
   "id": "6e909420",
   "metadata": {},
   "outputs": [
    {
     "name": "stdout",
     "output_type": "stream",
     "text": [
      "b'Hi admin BALSN{P4dd1ng_0racl3_got_Old?How_4b0ut_JS0N_ORACLE}\\n'\n"
     ]
    }
   ],
   "source": [
    "url = f\"http://{url_base}/login/{urlsafe_b64encode(iv+c1+c2+c3+c4+c5).decode()}\"\n",
    "print(grequests.map([grequests.get(url)])[0].content)"
   ]
  }
 ],
 "metadata": {
  "kernelspec": {
   "display_name": "Python 3 (ipykernel)",
   "language": "python",
   "name": "python3"
  },
  "language_info": {
   "codemirror_mode": {
    "name": "ipython",
    "version": 3
   },
   "file_extension": ".py",
   "mimetype": "text/x-python",
   "name": "python",
   "nbconvert_exporter": "python",
   "pygments_lexer": "ipython3",
   "version": "3.10.4"
  }
 },
 "nbformat": 4,
 "nbformat_minor": 5
}
